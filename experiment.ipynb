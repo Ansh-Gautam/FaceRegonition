{
 "cells": [
  {
   "cell_type": "code",
   "execution_count": 1,
   "id": "d1faac4f",
   "metadata": {},
   "outputs": [
    {
     "name": "stdout",
     "output_type": "stream",
     "text": [
      "2.8.0\n"
     ]
    }
   ],
   "source": [
    "import tensorflow as tf\n",
    "print(tf.__version__)"
   ]
  },
  {
   "cell_type": "code",
   "execution_count": 2,
   "id": "e921d20e",
   "metadata": {},
   "outputs": [],
   "source": [
    "# import the libraries as shown below\n",
    "\n",
    "from tensorflow.keras.layers import Input, Lambda, Dense, Flatten\n",
    "from tensorflow.keras.models import Model\n",
    "from tensorflow.keras.applications.vgg16 import VGG16\n",
    "from tensorflow.keras.applications.vgg19 import VGG19\n",
    "from tensorflow.keras.preprocessing import image\n",
    "from tensorflow.keras.preprocessing.image import ImageDataGenerator,load_img\n",
    "from tensorflow.keras.models import Sequential\n",
    "import numpy as np\n",
    "from glob import glob\n",
    "#import matplotlib.pyplot as plt"
   ]
  },
  {
   "cell_type": "code",
   "execution_count": 3,
   "id": "0a7a89c9",
   "metadata": {},
   "outputs": [],
   "source": [
    "# re-size all the images to this\n",
    "IMAGE_SIZE = [224, 224]\n",
    "\n",
    "train_path = 'train'\n",
    "valid_path = 'test'"
   ]
  },
  {
   "cell_type": "code",
   "execution_count": 4,
   "id": "ecfc2233",
   "metadata": {},
   "outputs": [],
   "source": [
    "# Import the VGG16 library as shown below and add preprocessing layer to the front of VGG\n",
    "# Here we will be using imagenet weights\n",
    "\n",
    "vgg16 = VGG16(input_shape=IMAGE_SIZE + [3], weights='imagenet', include_top=False)"
   ]
  },
  {
   "cell_type": "code",
   "execution_count": 5,
   "id": "d8914963",
   "metadata": {},
   "outputs": [],
   "source": [
    "# don't train existing weights\n",
    "for layer in vgg16.layers:\n",
    "    layer.trainable = False"
   ]
  },
  {
   "cell_type": "code",
   "execution_count": 6,
   "id": "2ed8e2d7",
   "metadata": {},
   "outputs": [],
   "source": [
    "# useful for getting number of output classes\n",
    "folders = glob('train/*')"
   ]
  },
  {
   "cell_type": "code",
   "execution_count": 7,
   "id": "778c6a10",
   "metadata": {},
   "outputs": [
    {
     "data": {
      "text/plain": [
       "['train\\\\Autistic', 'train\\\\Non_Autistic']"
      ]
     },
     "execution_count": 7,
     "metadata": {},
     "output_type": "execute_result"
    }
   ],
   "source": [
    "folders"
   ]
  },
  {
   "cell_type": "code",
   "execution_count": 8,
   "id": "a3ece8bd",
   "metadata": {},
   "outputs": [],
   "source": [
    "# our layers - you can add more if you want\n",
    "x = Flatten()(vgg16.output)"
   ]
  },
  {
   "cell_type": "code",
   "execution_count": 9,
   "id": "e9c68bca",
   "metadata": {},
   "outputs": [
    {
     "data": {
      "text/plain": [
       "<KerasTensor: shape=(None, 25088) dtype=float32 (created by layer 'flatten')>"
      ]
     },
     "execution_count": 9,
     "metadata": {},
     "output_type": "execute_result"
    }
   ],
   "source": [
    "model2=Model(inputs=vgg16.input,output = x)\n",
    "model.summary"
   ]
  },
  {
   "cell_type": "code",
   "execution_count": 26,
   "id": "180e0436",
   "metadata": {},
   "outputs": [
    {
     "data": {
      "text/plain": [
       "2"
      ]
     },
     "execution_count": 26,
     "metadata": {},
     "output_type": "execute_result"
    }
   ],
   "source": [
    "len(folders)"
   ]
  },
  {
   "cell_type": "code",
   "execution_count": 27,
   "id": "906ba6bd",
   "metadata": {},
   "outputs": [],
   "source": [
    "prediction = Dense(len(folders), activation='softmax')(x)\n",
    "\n",
    "# create a model object\n",
    "model = Model(inputs=vgg16.input, outputs=prediction)"
   ]
  },
  {
   "cell_type": "code",
   "execution_count": 28,
   "id": "5e4d3da5",
   "metadata": {},
   "outputs": [
    {
     "name": "stdout",
     "output_type": "stream",
     "text": [
      "Model: \"model_1\"\n",
      "_________________________________________________________________\n",
      " Layer (type)                Output Shape              Param #   \n",
      "=================================================================\n",
      " input_2 (InputLayer)        [(None, 224, 224, 3)]     0         \n",
      "                                                                 \n",
      " block1_conv1 (Conv2D)       (None, 224, 224, 64)      1792      \n",
      "                                                                 \n",
      " block1_conv2 (Conv2D)       (None, 224, 224, 64)      36928     \n",
      "                                                                 \n",
      " block1_pool (MaxPooling2D)  (None, 112, 112, 64)      0         \n",
      "                                                                 \n",
      " block2_conv1 (Conv2D)       (None, 112, 112, 128)     73856     \n",
      "                                                                 \n",
      " block2_conv2 (Conv2D)       (None, 112, 112, 128)     147584    \n",
      "                                                                 \n",
      " block2_pool (MaxPooling2D)  (None, 56, 56, 128)       0         \n",
      "                                                                 \n",
      " block3_conv1 (Conv2D)       (None, 56, 56, 256)       295168    \n",
      "                                                                 \n",
      " block3_conv2 (Conv2D)       (None, 56, 56, 256)       590080    \n",
      "                                                                 \n",
      " block3_conv3 (Conv2D)       (None, 56, 56, 256)       590080    \n",
      "                                                                 \n",
      " block3_pool (MaxPooling2D)  (None, 28, 28, 256)       0         \n",
      "                                                                 \n",
      " block4_conv1 (Conv2D)       (None, 28, 28, 512)       1180160   \n",
      "                                                                 \n",
      " block4_conv2 (Conv2D)       (None, 28, 28, 512)       2359808   \n",
      "                                                                 \n",
      " block4_conv3 (Conv2D)       (None, 28, 28, 512)       2359808   \n",
      "                                                                 \n",
      " block4_pool (MaxPooling2D)  (None, 14, 14, 512)       0         \n",
      "                                                                 \n",
      " block5_conv1 (Conv2D)       (None, 14, 14, 512)       2359808   \n",
      "                                                                 \n",
      " block5_conv2 (Conv2D)       (None, 14, 14, 512)       2359808   \n",
      "                                                                 \n",
      " block5_conv3 (Conv2D)       (None, 14, 14, 512)       2359808   \n",
      "                                                                 \n",
      " block5_pool (MaxPooling2D)  (None, 7, 7, 512)         0         \n",
      "                                                                 \n",
      " flatten_1 (Flatten)         (None, 25088)             0         \n",
      "                                                                 \n",
      " dense_1 (Dense)             (None, 2)                 50178     \n",
      "                                                                 \n",
      "=================================================================\n",
      "Total params: 14,764,866\n",
      "Trainable params: 50,178\n",
      "Non-trainable params: 14,714,688\n",
      "_________________________________________________________________\n"
     ]
    }
   ],
   "source": [
    "# view the structure of the model\n",
    "model.summary()"
   ]
  },
  {
   "cell_type": "code",
   "execution_count": 29,
   "id": "03525736",
   "metadata": {},
   "outputs": [],
   "source": [
    "# tell the model what cost and optimization method to use\n",
    "model.compile(\n",
    "  loss='categorical_crossentropy',\n",
    "  optimizer='adam',\n",
    "  metrics=['accuracy']\n",
    ")"
   ]
  },
  {
   "cell_type": "code",
   "execution_count": 30,
   "id": "dc5780ac",
   "metadata": {},
   "outputs": [],
   "source": [
    "# Use the Image Data Generator to import the images from the dataset\n",
    "from tensorflow.keras.preprocessing.image import ImageDataGenerator\n",
    "\n",
    "train_datagen = ImageDataGenerator(rescale = 1./255,\n",
    "                                   shear_range = 0.2,\n",
    "                                   zoom_range = 0.2,\n",
    "                                   horizontal_flip = True)\n",
    "\n",
    "test_datagen = ImageDataGenerator(rescale = 1./255)"
   ]
  },
  {
   "cell_type": "code",
   "execution_count": 31,
   "id": "a3349b5c",
   "metadata": {},
   "outputs": [
    {
     "name": "stdout",
     "output_type": "stream",
     "text": [
      "Found 280 images belonging to 2 classes.\n"
     ]
    }
   ],
   "source": [
    "# Make sure you provide the same target size as initialied for the image size\n",
    "training_set = train_datagen.flow_from_directory('train',\n",
    "                                                 target_size = (224, 224),\n",
    "                                                 batch_size = 32,\n",
    "                                                 class_mode = 'categorical')"
   ]
  },
  {
   "cell_type": "code",
   "execution_count": 32,
   "id": "238cab4e",
   "metadata": {},
   "outputs": [
    {
     "name": "stdout",
     "output_type": "stream",
     "text": [
      "Found 20 images belonging to 2 classes.\n"
     ]
    }
   ],
   "source": [
    "test_set = test_datagen.flow_from_directory('test',\n",
    "                                            target_size = (224, 224),\n",
    "                                            batch_size = 32,\n",
    "                                            class_mode = 'categorical')"
   ]
  },
  {
   "cell_type": "code",
   "execution_count": 33,
   "id": "65fa2db7",
   "metadata": {},
   "outputs": [
    {
     "name": "stderr",
     "output_type": "stream",
     "text": [
      "C:\\Users\\DELL\\AppData\\Local\\Temp\\ipykernel_18824\\4130870686.py:3: UserWarning: `Model.fit_generator` is deprecated and will be removed in a future version. Please use `Model.fit`, which supports generators.\n",
      "  r = model.fit_generator(\n"
     ]
    },
    {
     "name": "stdout",
     "output_type": "stream",
     "text": [
      "Epoch 1/20\n",
      "9/9 [==============================] - 59s 6s/step - loss: 1.4297 - accuracy: 0.5214 - val_loss: 1.2096 - val_accuracy: 0.5500\n",
      "Epoch 2/20\n",
      "9/9 [==============================] - 57s 7s/step - loss: 0.3644 - accuracy: 0.8179 - val_loss: 0.6906 - val_accuracy: 0.8000\n",
      "Epoch 3/20\n",
      "9/9 [==============================] - 57s 6s/step - loss: 0.3028 - accuracy: 0.8750 - val_loss: 0.8100 - val_accuracy: 0.8000\n",
      "Epoch 4/20\n",
      "9/9 [==============================] - 57s 6s/step - loss: 0.2302 - accuracy: 0.9214 - val_loss: 0.9161 - val_accuracy: 0.8000\n",
      "Epoch 5/20\n",
      "9/9 [==============================] - 57s 6s/step - loss: 0.1770 - accuracy: 0.9250 - val_loss: 0.7948 - val_accuracy: 0.8000\n",
      "Epoch 6/20\n",
      "9/9 [==============================] - 57s 6s/step - loss: 0.1619 - accuracy: 0.9429 - val_loss: 0.8009 - val_accuracy: 0.8000\n",
      "Epoch 7/20\n",
      "9/9 [==============================] - 57s 6s/step - loss: 0.1580 - accuracy: 0.9500 - val_loss: 0.8002 - val_accuracy: 0.8000\n",
      "Epoch 8/20\n",
      "9/9 [==============================] - 58s 6s/step - loss: 0.1255 - accuracy: 0.9679 - val_loss: 0.7835 - val_accuracy: 0.8000\n",
      "Epoch 9/20\n",
      "9/9 [==============================] - 58s 6s/step - loss: 0.1120 - accuracy: 0.9786 - val_loss: 0.9015 - val_accuracy: 0.8000\n",
      "Epoch 10/20\n",
      "9/9 [==============================] - 58s 6s/step - loss: 0.0942 - accuracy: 0.9786 - val_loss: 0.8636 - val_accuracy: 0.8000\n",
      "Epoch 11/20\n",
      "9/9 [==============================] - 57s 6s/step - loss: 0.0966 - accuracy: 0.9643 - val_loss: 0.8785 - val_accuracy: 0.8000\n",
      "Epoch 12/20\n",
      "9/9 [==============================] - 57s 6s/step - loss: 0.0730 - accuracy: 0.9929 - val_loss: 0.8852 - val_accuracy: 0.8000\n",
      "Epoch 13/20\n",
      "9/9 [==============================] - 57s 6s/step - loss: 0.0668 - accuracy: 0.9929 - val_loss: 0.8418 - val_accuracy: 0.8000\n",
      "Epoch 14/20\n",
      "9/9 [==============================] - 57s 6s/step - loss: 0.0549 - accuracy: 0.9964 - val_loss: 0.8857 - val_accuracy: 0.8000\n",
      "Epoch 15/20\n",
      "9/9 [==============================] - 57s 6s/step - loss: 0.0687 - accuracy: 0.9857 - val_loss: 0.9171 - val_accuracy: 0.8000\n",
      "Epoch 16/20\n",
      "9/9 [==============================] - 57s 6s/step - loss: 0.0625 - accuracy: 0.9821 - val_loss: 0.9531 - val_accuracy: 0.8000\n",
      "Epoch 17/20\n",
      "9/9 [==============================] - 57s 7s/step - loss: 0.0652 - accuracy: 0.9857 - val_loss: 0.8007 - val_accuracy: 0.8000\n",
      "Epoch 18/20\n",
      "9/9 [==============================] - 57s 6s/step - loss: 0.0602 - accuracy: 0.9786 - val_loss: 0.8264 - val_accuracy: 0.8000\n",
      "Epoch 19/20\n",
      "9/9 [==============================] - 57s 6s/step - loss: 0.0527 - accuracy: 0.9857 - val_loss: 1.1081 - val_accuracy: 0.8500\n",
      "Epoch 20/20\n",
      "9/9 [==============================] - 57s 6s/step - loss: 0.0602 - accuracy: 0.9857 - val_loss: 0.9141 - val_accuracy: 0.8000\n"
     ]
    }
   ],
   "source": [
    "# fit the model\n",
    "# Run the cell. It will take some time to execute\n",
    "r = model.fit_generator(\n",
    "  training_set,\n",
    "  validation_data=test_set,\n",
    "  epochs=20,\n",
    "  steps_per_epoch=len(training_set),\n",
    "  validation_steps=len(test_set)\n",
    ")"
   ]
  },
  {
   "cell_type": "code",
   "execution_count": 34,
   "id": "73658aa9",
   "metadata": {},
   "outputs": [
    {
     "data": {
      "image/png": "[encoded data removed]",
      "text/plain": [
       "<Figure size 432x288 with 1 Axes>"
      ]
     },
     "metadata": {
      "needs_background": "light"
     },
     "output_type": "display_data"
    },
    {
     "data": {
      "image/png": "[encoded data removed]",
      "text/plain": [
       "<Figure size 432x288 with 1 Axes>"
      ]
     },
     "metadata": {
      "needs_background": "light"
     },
     "output_type": "display_data"
    },
    {
     "data": {
      "text/plain": [
       "<Figure size 432x288 with 0 Axes>"
      ]
     },
     "metadata": {},
     "output_type": "display_data"
    }
   ],
   "source": [
    "import matplotlib.pyplot as plt\n",
    "# plot the loss\n",
    "plt.plot(r.history['loss'], label='train loss')\n",
    "plt.plot(r.history['val_loss'], label='val loss')\n",
    "plt.legend()\n",
    "plt.show()\n",
    "plt.savefig('LossVal_loss')\n",
    "\n",
    "# plot the accuracy\n",
    "plt.plot(r.history['accuracy'], label='train acc')\n",
    "plt.plot(r.history['val_accuracy'], label='val acc')\n",
    "plt.legend()\n",
    "plt.show()\n",
    "plt.savefig('AccVal_acc')"
   ]
  },
  {
   "cell_type": "code",
   "execution_count": 35,
   "id": "0a3621db",
   "metadata": {},
   "outputs": [],
   "source": [
    "# save it as a h5 file\n",
    "\n",
    "\n",
    "from tensorflow.keras.models import load_model\n",
    "\n",
    "model.save('model_vgg16.h5')"
   ]
  },
  {
   "cell_type": "code",
   "execution_count": 36,
   "id": "a4ca2b44",
   "metadata": {},
   "outputs": [
    {
     "data": {
      "text/plain": [
       "array([[2.8392019e-02, 9.7160798e-01],\n",
       "       [9.9932933e-01, 6.7072123e-04],\n",
       "       [6.5996652e-03, 9.9340034e-01],\n",
       "       [9.9782026e-01, 2.1797058e-03],\n",
       "       [3.8565241e-02, 9.6143478e-01],\n",
       "       [9.5686503e-02, 9.0431345e-01],\n",
       "       [9.9115950e-01, 8.8404492e-03],\n",
       "       [9.9871552e-01, 1.2844905e-03],\n",
       "       [9.9393553e-01, 6.0645086e-03],\n",
       "       [9.2394608e-01, 7.6053917e-02],\n",
       "       [9.9859780e-01, 1.4022052e-03],\n",
       "       [9.7098172e-01, 2.9018342e-02],\n",
       "       [9.9109728e-03, 9.9008894e-01],\n",
       "       [9.9994922e-01, 5.0730901e-05],\n",
       "       [9.9352288e-01, 6.4771278e-03],\n",
       "       [1.2564267e-01, 8.7435734e-01],\n",
       "       [9.9994612e-01, 5.3872609e-05],\n",
       "       [7.0953867e-03, 9.9290460e-01],\n",
       "       [9.9862087e-01, 1.3790992e-03],\n",
       "       [4.1249145e-02, 9.5875084e-01]], dtype=float32)"
      ]
     },
     "execution_count": 36,
     "metadata": {},
     "output_type": "execute_result"
    }
   ],
   "source": [
    "y_pred = model.predict(test_set)\n",
    "y_pred\n"
   ]
  },
  {
   "cell_type": "code",
   "execution_count": 37,
   "id": "8a363b88",
   "metadata": {},
   "outputs": [
    {
     "data": {
      "text/plain": [
       "array([1, 0, 1, 0, 1, 1, 0, 0, 0, 0, 0, 0, 1, 0, 0, 1, 0, 1, 0, 1],\n",
       "      dtype=int64)"
      ]
     },
     "execution_count": 37,
     "metadata": {},
     "output_type": "execute_result"
    }
   ],
   "source": [
    "import numpy as np\n",
    "y_pred = np.argmax(y_pred, axis=1)\n",
    "y_pred"
   ]
  },
  {
   "cell_type": "code",
   "execution_count": 34,
   "id": "2b56ddaf",
   "metadata": {},
   "outputs": [],
   "source": [
    "from tensorflow.keras.models import load_model\n",
    "from tensorflow.keras.preprocessing import image\n",
    "model=load_model('model_vgg16.h5')"
   ]
  },
  {
   "cell_type": "code",
   "execution_count": 35,
   "id": "0978ec10",
   "metadata": {},
   "outputs": [],
   "source": [
    "img=image.load_img('Sample4.JPG',target_size=(224,224))"
   ]
  },
  {
   "cell_type": "code",
   "execution_count": 36,
   "id": "6b64e8c2",
   "metadata": {},
   "outputs": [
    {
     "data": {
      "text/plain": [
       "array([[[162., 158., 149.],\n",
       "        [168., 164., 155.],\n",
       "        [201., 196., 190.],\n",
       "        ...,\n",
       "        [122., 100.,  87.],\n",
       "        [135., 115.,  91.],\n",
       "        [106.,  89.,  59.]],\n",
       "\n",
       "       [[181., 177., 168.],\n",
       "        [167., 163., 154.],\n",
       "        [118., 113., 107.],\n",
       "        ...,\n",
       "        [203., 190., 174.],\n",
       "        [214., 202., 180.],\n",
       "        [183., 174., 145.]],\n",
       "\n",
       "       [[188., 184., 175.],\n",
       "        [181., 177., 168.],\n",
       "        [175., 170., 164.],\n",
       "        ...,\n",
       "        [128., 119., 104.],\n",
       "        [120., 112.,  91.],\n",
       "        [217., 210., 184.]],\n",
       "\n",
       "       ...,\n",
       "\n",
       "       [[  8.,  39.,  86.],\n",
       "        [ 16.,  47.,  94.],\n",
       "        [ 20.,  47., 100.],\n",
       "        ...,\n",
       "        [  6.,  30.,  74.],\n",
       "        [  8.,  32.,  78.],\n",
       "        [  6.,  33.,  78.]],\n",
       "\n",
       "       [[ 11.,  42.,  86.],\n",
       "        [ 21.,  52.,  98.],\n",
       "        [ 15.,  42.,  95.],\n",
       "        ...,\n",
       "        [  3.,  27.,  71.],\n",
       "        [  5.,  29.,  75.],\n",
       "        [  4.,  31.,  76.]],\n",
       "\n",
       "       [[ 13.,  42., 102.],\n",
       "        [ 24.,  53., 111.],\n",
       "        [ 15.,  43.,  91.],\n",
       "        ...,\n",
       "        [  6.,  27.,  74.],\n",
       "        [  7.,  30.,  80.],\n",
       "        [  4.,  30.,  79.]]], dtype=float32)"
      ]
     },
     "execution_count": 36,
     "metadata": {},
     "output_type": "execute_result"
    }
   ],
   "source": [
    "x=image.img_to_array(img)\n",
    "x"
   ]
  },
  {
   "cell_type": "code",
   "execution_count": 37,
   "id": "874b9795",
   "metadata": {},
   "outputs": [
    {
     "data": {
      "text/plain": [
       "(224, 224, 3)"
      ]
     },
     "execution_count": 37,
     "metadata": {},
     "output_type": "execute_result"
    }
   ],
   "source": [
    "x.shape"
   ]
  },
  {
   "cell_type": "code",
   "execution_count": 38,
   "id": "d38f201d",
   "metadata": {},
   "outputs": [],
   "source": [
    "x=x/255"
   ]
  },
  {
   "cell_type": "code",
   "execution_count": 39,
   "id": "866c70b9",
   "metadata": {},
   "outputs": [
    {
     "data": {
      "text/plain": [
       "(1, 224, 224, 3)"
      ]
     },
     "execution_count": 39,
     "metadata": {},
     "output_type": "execute_result"
    }
   ],
   "source": [
    "import numpy as np\n",
    "from keras.applications.vgg16 import VGG16, preprocess_input\n",
    "x=np.expand_dims(x,axis=0)\n",
    "img_data = preprocess_input(x)\n",
    "img_data.shape"
   ]
  },
  {
   "cell_type": "code",
   "execution_count": 40,
   "id": "15d2ce75",
   "metadata": {},
   "outputs": [
    {
     "data": {
      "text/plain": [
       "array([[0.1478553, 0.8521447]], dtype=float32)"
      ]
     },
     "execution_count": 40,
     "metadata": {},
     "output_type": "execute_result"
    }
   ],
   "source": [
    "model.predict(img_data)"
   ]
  },
  {
   "cell_type": "code",
   "execution_count": 41,
   "id": "e4e55c2c",
   "metadata": {},
   "outputs": [],
   "source": [
    "a=np.argmax(model.predict(img_data), axis=1)"
   ]
  },
  {
   "cell_type": "code",
   "execution_count": 31,
   "id": "9a597455",
   "metadata": {},
   "outputs": [
    {
     "data": {
      "text/plain": [
       "array([False])"
      ]
     },
     "execution_count": 31,
     "metadata": {},
     "output_type": "execute_result"
    }
   ],
   "source": [
    "a==0"
   ]
  },
  {
   "cell_type": "code",
   "execution_count": null,
   "id": "f2375388",
   "metadata": {},
   "outputs": [],
   "source": []
  }
 ],
 "metadata": {
  "kernelspec": {
   "display_name": "Python 3 (ipykernel)",
   "language": "python",
   "name": "python3"
  },
  "language_info": {
   "codemirror_mode": {
    "name": "ipython",
    "version": 3
   },
   "file_extension": ".py",
   "mimetype": "text/x-python",
   "name": "python",
   "nbconvert_exporter": "python",
   "pygments_lexer": "ipython3",
   "version": "3.9.7"
  }
 },
 "nbformat": 4,
 "nbformat_minor": 5
}
